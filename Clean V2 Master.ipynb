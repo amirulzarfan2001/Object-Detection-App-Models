{
 "cells": [
  {
   "cell_type": "markdown",
   "id": "2f1c72f0",
   "metadata": {},
   "source": [
    "Guide to adding layers"
   ]
  },
  {
   "cell_type": "code",
   "execution_count": null,
   "id": "36e8c093",
   "metadata": {},
   "outputs": [],
   "source": [
    "model = keras.models.Sequential()\n",
    "model.add(layers.Conv2D(32, (3,3), strides=(1,1), padding=\"valid\", activation='relu', input_shape=(256, 256,3)))\n",
    "model.add(layers.MaxPool2D((2,2)))\n",
    "model.add(layers.Conv2D(64, 3, activation='relu'))\n",
    "model.add(layers.MaxPool2D((2,2)))\n",
    "model.add(layers.Flatten())\n",
    "model.add(layers.Dense(64, activation='relu'))\n",
    "model.add(layers.Dense(5))\n",
    "print(model.summary())"
   ]
  },
  {
   "cell_type": "code",
   "execution_count": 1,
   "id": "dcaf9f51",
   "metadata": {},
   "outputs": [],
   "source": [
    "import os\n",
    "import math\n",
    "import random\n",
    "import shutil\n",
    "\n",
    "import numpy as np\n",
    "import pandas as pd\n",
    "import matplotlib.pyplot as plt\n",
    "import seaborn as sn\n",
    "\n",
    "import tensorflow as tf\n",
    "from tensorflow import keras\n",
    "from tensorflow.keras import layers"
   ]
  },
  {
   "cell_type": "code",
   "execution_count": 2,
   "id": "83dc0d30",
   "metadata": {},
   "outputs": [],
   "source": [
    "BASE_DIR = 'Chosen class balanced/'\n",
    "names = [\"Cardboard boxes\",\"Cardboard drinks\",\"glass\",\"Metal cans\",\"Metal foils and container\",\"paper\",\"Plastic bottles\"]\n",
    "\n",
    "tf.random.set_seed(1)"
   ]
  },
  {
   "cell_type": "code",
   "execution_count": 5,
   "id": "37ad1a0d",
   "metadata": {},
   "outputs": [],
   "source": [
    "# Reorganize the folder structure:\n",
    "if not os.path.isdir(BASE_DIR + 'train/'):\n",
    "    for name in names:\n",
    "        os.makedirs(BASE_DIR + 'train/' + name)\n",
    "        os.makedirs(BASE_DIR + 'val/' + name)\n",
    "        os.makedirs(BASE_DIR + 'test/' + name)"
   ]
  },
  {
   "cell_type": "code",
   "execution_count": 6,
   "id": "e8a7f96e",
   "metadata": {},
   "outputs": [
    {
     "name": "stdout",
     "output_type": "stream",
     "text": [
      "403 242 101 60\n",
      "501 301 125 75\n",
      "410 246 103 61\n",
      "594 356 149 89\n",
      "482 289 121 72\n",
      "137 82 34 21\n"
     ]
    }
   ],
   "source": [
    "# Moce the image files\n",
    "orig_folders =[\"Cardboard boxes/\",\"Cardboard drinks/\",\"glass/\",\"Metal cans/\",\"Metal foils and container/\",\"paper/\",\"Plastic bottles/\"]\n",
    "for folder_idx, folder in enumerate(orig_folders):\n",
    "    files = os.listdir(BASE_DIR + folder)\n",
    "    number_of_images = len([name for name in files])\n",
    "    n_train = int((number_of_images * 0.6) + 0.5) #set 60% for training\n",
    "    n_valid = int((number_of_images*0.25) + 0.5) #set 25% for validation\n",
    "    n_test = number_of_images - n_train - n_valid #set 15% for test\n",
    "    print(number_of_images, n_train, n_valid, n_test)\n",
    "    for idx, file in enumerate(files):\n",
    "        file_name = BASE_DIR + folder + file\n",
    "        if idx < n_train:\n",
    "            shutil.move(file_name, BASE_DIR + \"train/\" + names[folder_idx])\n",
    "        elif idx < n_train + n_valid:\n",
    "            shutil.move(file_name, BASE_DIR + \"val/\" + names[folder_idx])\n",
    "        else:\n",
    "            shutil.move(file_name, BASE_DIR + \"test/\" + names[folder_idx])"
   ]
  },
  {
   "cell_type": "code",
   "execution_count": 3,
   "id": "78bcb654",
   "metadata": {},
   "outputs": [],
   "source": [
    "# get the preprocessing function of this model\n",
    "preprocess_input = tf.keras.applications.vgg16.preprocess_input"
   ]
  },
  {
   "cell_type": "code",
   "execution_count": null,
   "id": "b89a534f",
   "metadata": {},
   "outputs": [],
   "source": [
    "# Generate batches of tensor image data with real-time data augmentation.\n",
    "\n",
    "train_gen = keras.preprocessing.image.ImageDataGenerator(preprocessing_function=preprocess_input)\n",
    "valid_gen = keras.preprocessing.image.ImageDataGenerator(preprocessing_function=preprocess_input)\n",
    "test_gen = keras.preprocessing.image.ImageDataGenerator(preprocessing_function=preprocess_input)\n",
    "\n",
    "train_batches = train_gen.flow_from_directory(\n",
    "    'Chosen class balanced/train',\n",
    "    target_size=(224, 224),\n",
    "    class_mode='sparse',\n",
    "    batch_size=4,\n",
    "    shuffle=True,\n",
    "    color_mode=\"rgb\",\n",
    "    classes=names   \n",
    ")\n",
    "\n",
    "val_batches = valid_gen.flow_from_directory(\n",
    "    'Chosen class balanced/val',\n",
    "    target_size=(224, 224),\n",
    "    class_mode='sparse',\n",
    "    batch_size=4,\n",
    "    shuffle=True,\n",
    "    color_mode=\"rgb\",\n",
    "    classes=names\n",
    ")\n",
    "\n",
    "test_batches = test_gen.flow_from_directory(\n",
    "    'Chosen class balanced/test',\n",
    "    target_size=(224, 224),\n",
    "    class_mode='sparse',\n",
    "    batch_size=1,\n",
    "    shuffle=False,\n",
    "    color_mode=\"rgb\",\n",
    "    classes=names\n",
    ")"
   ]
  },
  {
   "cell_type": "code",
   "execution_count": 5,
   "id": "6b5060fc",
   "metadata": {},
   "outputs": [
    {
     "name": "stdout",
     "output_type": "stream",
     "text": [
      "<class 'keras.src.engine.functional.Functional'>\n",
      "Model: \"vgg16\"\n",
      "_________________________________________________________________\n",
      " Layer (type)                Output Shape              Param #   \n",
      "=================================================================\n",
      " input_1 (InputLayer)        [(None, 224, 224, 3)]     0         \n",
      "                                                                 \n",
      " block1_conv1 (Conv2D)       (None, 224, 224, 64)      1792      \n",
      "                                                                 \n",
      " block1_conv2 (Conv2D)       (None, 224, 224, 64)      36928     \n",
      "                                                                 \n",
      " block1_pool (MaxPooling2D)  (None, 112, 112, 64)      0         \n",
      "                                                                 \n",
      " block2_conv1 (Conv2D)       (None, 112, 112, 128)     73856     \n",
      "                                                                 \n",
      " block2_conv2 (Conv2D)       (None, 112, 112, 128)     147584    \n",
      "                                                                 \n",
      " block2_pool (MaxPooling2D)  (None, 56, 56, 128)       0         \n",
      "                                                                 \n",
      " block3_conv1 (Conv2D)       (None, 56, 56, 256)       295168    \n",
      "                                                                 \n",
      " block3_conv2 (Conv2D)       (None, 56, 56, 256)       590080    \n",
      "                                                                 \n",
      " block3_conv3 (Conv2D)       (None, 56, 56, 256)       590080    \n",
      "                                                                 \n",
      " block3_pool (MaxPooling2D)  (None, 28, 28, 256)       0         \n",
      "                                                                 \n",
      " block4_conv1 (Conv2D)       (None, 28, 28, 512)       1180160   \n",
      "                                                                 \n",
      " block4_conv2 (Conv2D)       (None, 28, 28, 512)       2359808   \n",
      "                                                                 \n",
      " block4_conv3 (Conv2D)       (None, 28, 28, 512)       2359808   \n",
      "                                                                 \n",
      " block4_pool (MaxPooling2D)  (None, 14, 14, 512)       0         \n",
      "                                                                 \n",
      " block5_conv1 (Conv2D)       (None, 14, 14, 512)       2359808   \n",
      "                                                                 \n",
      " block5_conv2 (Conv2D)       (None, 14, 14, 512)       2359808   \n",
      "                                                                 \n",
      " block5_conv3 (Conv2D)       (None, 14, 14, 512)       2359808   \n",
      "                                                                 \n",
      " block5_pool (MaxPooling2D)  (None, 7, 7, 512)         0         \n",
      "                                                                 \n",
      " flatten (Flatten)           (None, 25088)             0         \n",
      "                                                                 \n",
      " fc1 (Dense)                 (None, 4096)              102764544 \n",
      "                                                                 \n",
      " fc2 (Dense)                 (None, 4096)              16781312  \n",
      "                                                                 \n",
      " predictions (Dense)         (None, 1000)              4097000   \n",
      "                                                                 \n",
      "=================================================================\n",
      "Total params: 138357544 (527.79 MB)\n",
      "Trainable params: 138357544 (527.79 MB)\n",
      "Non-trainable params: 0 (0.00 Byte)\n",
      "_________________________________________________________________\n"
     ]
    }
   ],
   "source": [
    "vgg_model = tf.keras.applications.vgg16.VGG16()\n",
    "print(type(vgg_model))\n",
    "vgg_model.summary()\n",
    "\n",
    "# try out different ones, e.g. MobileNetV2\n",
    "#tl_model = tf.keras.applications.MobileNetV2()\n",
    "#print(type(tl_model))\n",
    "#tl_model.summary()"
   ]
  },
  {
   "cell_type": "code",
   "execution_count": 6,
   "id": "4da4c30d",
   "metadata": {},
   "outputs": [],
   "source": [
    "# convert to Sequential model, omit the last layer\n",
    "# this works with VGG16 because the structure is linear\n",
    "model = keras.models.Sequential()\n",
    "for layer in vgg_model.layers[0:-1]:\n",
    "    model.add(layer)"
   ]
  },
  {
   "cell_type": "code",
   "execution_count": 7,
   "id": "8e6deecd",
   "metadata": {},
   "outputs": [
    {
     "name": "stdout",
     "output_type": "stream",
     "text": [
      "Model: \"sequential\"\n",
      "_________________________________________________________________\n",
      " Layer (type)                Output Shape              Param #   \n",
      "=================================================================\n",
      " block1_conv1 (Conv2D)       (None, 224, 224, 64)      1792      \n",
      "                                                                 \n",
      " block1_conv2 (Conv2D)       (None, 224, 224, 64)      36928     \n",
      "                                                                 \n",
      " block1_pool (MaxPooling2D)  (None, 112, 112, 64)      0         \n",
      "                                                                 \n",
      " block2_conv1 (Conv2D)       (None, 112, 112, 128)     73856     \n",
      "                                                                 \n",
      " block2_conv2 (Conv2D)       (None, 112, 112, 128)     147584    \n",
      "                                                                 \n",
      " block2_pool (MaxPooling2D)  (None, 56, 56, 128)       0         \n",
      "                                                                 \n",
      " block3_conv1 (Conv2D)       (None, 56, 56, 256)       295168    \n",
      "                                                                 \n",
      " block3_conv2 (Conv2D)       (None, 56, 56, 256)       590080    \n",
      "                                                                 \n",
      " block3_conv3 (Conv2D)       (None, 56, 56, 256)       590080    \n",
      "                                                                 \n",
      " block3_pool (MaxPooling2D)  (None, 28, 28, 256)       0         \n",
      "                                                                 \n",
      " block4_conv1 (Conv2D)       (None, 28, 28, 512)       1180160   \n",
      "                                                                 \n",
      " block4_conv2 (Conv2D)       (None, 28, 28, 512)       2359808   \n",
      "                                                                 \n",
      " block4_conv3 (Conv2D)       (None, 28, 28, 512)       2359808   \n",
      "                                                                 \n",
      " block4_pool (MaxPooling2D)  (None, 14, 14, 512)       0         \n",
      "                                                                 \n",
      " block5_conv1 (Conv2D)       (None, 14, 14, 512)       2359808   \n",
      "                                                                 \n",
      " block5_conv2 (Conv2D)       (None, 14, 14, 512)       2359808   \n",
      "                                                                 \n",
      " block5_conv3 (Conv2D)       (None, 14, 14, 512)       2359808   \n",
      "                                                                 \n",
      " block5_pool (MaxPooling2D)  (None, 7, 7, 512)         0         \n",
      "                                                                 \n",
      " flatten (Flatten)           (None, 25088)             0         \n",
      "                                                                 \n",
      " fc1 (Dense)                 (None, 4096)              102764544 \n",
      "                                                                 \n",
      " fc2 (Dense)                 (None, 4096)              16781312  \n",
      "                                                                 \n",
      "=================================================================\n",
      "Total params: 134260544 (512.16 MB)\n",
      "Trainable params: 134260544 (512.16 MB)\n",
      "Non-trainable params: 0 (0.00 Byte)\n",
      "_________________________________________________________________\n"
     ]
    }
   ],
   "source": [
    "model.summary()"
   ]
  },
  {
   "cell_type": "code",
   "execution_count": 8,
   "id": "83c0c06b",
   "metadata": {},
   "outputs": [
    {
     "name": "stdout",
     "output_type": "stream",
     "text": [
      "Model: \"sequential\"\n",
      "_________________________________________________________________\n",
      " Layer (type)                Output Shape              Param #   \n",
      "=================================================================\n",
      " block1_conv1 (Conv2D)       (None, 224, 224, 64)      1792      \n",
      "                                                                 \n",
      " block1_conv2 (Conv2D)       (None, 224, 224, 64)      36928     \n",
      "                                                                 \n",
      " block1_pool (MaxPooling2D)  (None, 112, 112, 64)      0         \n",
      "                                                                 \n",
      " block2_conv1 (Conv2D)       (None, 112, 112, 128)     73856     \n",
      "                                                                 \n",
      " block2_conv2 (Conv2D)       (None, 112, 112, 128)     147584    \n",
      "                                                                 \n",
      " block2_pool (MaxPooling2D)  (None, 56, 56, 128)       0         \n",
      "                                                                 \n",
      " block3_conv1 (Conv2D)       (None, 56, 56, 256)       295168    \n",
      "                                                                 \n",
      " block3_conv2 (Conv2D)       (None, 56, 56, 256)       590080    \n",
      "                                                                 \n",
      " block3_conv3 (Conv2D)       (None, 56, 56, 256)       590080    \n",
      "                                                                 \n",
      " block3_pool (MaxPooling2D)  (None, 28, 28, 256)       0         \n",
      "                                                                 \n",
      " block4_conv1 (Conv2D)       (None, 28, 28, 512)       1180160   \n",
      "                                                                 \n",
      " block4_conv2 (Conv2D)       (None, 28, 28, 512)       2359808   \n",
      "                                                                 \n",
      " block4_conv3 (Conv2D)       (None, 28, 28, 512)       2359808   \n",
      "                                                                 \n",
      " block4_pool (MaxPooling2D)  (None, 14, 14, 512)       0         \n",
      "                                                                 \n",
      " block5_conv1 (Conv2D)       (None, 14, 14, 512)       2359808   \n",
      "                                                                 \n",
      " block5_conv2 (Conv2D)       (None, 14, 14, 512)       2359808   \n",
      "                                                                 \n",
      " block5_conv3 (Conv2D)       (None, 14, 14, 512)       2359808   \n",
      "                                                                 \n",
      " block5_pool (MaxPooling2D)  (None, 7, 7, 512)         0         \n",
      "                                                                 \n",
      " flatten (Flatten)           (None, 25088)             0         \n",
      "                                                                 \n",
      " fc1 (Dense)                 (None, 4096)              102764544 \n",
      "                                                                 \n",
      " fc2 (Dense)                 (None, 4096)              16781312  \n",
      "                                                                 \n",
      "=================================================================\n",
      "Total params: 134260544 (512.16 MB)\n",
      "Trainable params: 0 (0.00 Byte)\n",
      "Non-trainable params: 134260544 (512.16 MB)\n",
      "_________________________________________________________________\n"
     ]
    }
   ],
   "source": [
    "# set trainable=False for all layers\n",
    "# we don't want to train them again\n",
    "for layer in model.layers:\n",
    "    layer.trainable = False\n",
    "model.summary()"
   ]
  },
  {
   "cell_type": "code",
   "execution_count": 9,
   "id": "809572b5",
   "metadata": {},
   "outputs": [
    {
     "name": "stdout",
     "output_type": "stream",
     "text": [
      "Model: \"sequential\"\n",
      "_________________________________________________________________\n",
      " Layer (type)                Output Shape              Param #   \n",
      "=================================================================\n",
      " block1_conv1 (Conv2D)       (None, 224, 224, 64)      1792      \n",
      "                                                                 \n",
      " block1_conv2 (Conv2D)       (None, 224, 224, 64)      36928     \n",
      "                                                                 \n",
      " block1_pool (MaxPooling2D)  (None, 112, 112, 64)      0         \n",
      "                                                                 \n",
      " block2_conv1 (Conv2D)       (None, 112, 112, 128)     73856     \n",
      "                                                                 \n",
      " block2_conv2 (Conv2D)       (None, 112, 112, 128)     147584    \n",
      "                                                                 \n",
      " block2_pool (MaxPooling2D)  (None, 56, 56, 128)       0         \n",
      "                                                                 \n",
      " block3_conv1 (Conv2D)       (None, 56, 56, 256)       295168    \n",
      "                                                                 \n",
      " block3_conv2 (Conv2D)       (None, 56, 56, 256)       590080    \n",
      "                                                                 \n",
      " block3_conv3 (Conv2D)       (None, 56, 56, 256)       590080    \n",
      "                                                                 \n",
      " block3_pool (MaxPooling2D)  (None, 28, 28, 256)       0         \n",
      "                                                                 \n",
      " block4_conv1 (Conv2D)       (None, 28, 28, 512)       1180160   \n",
      "                                                                 \n",
      " block4_conv2 (Conv2D)       (None, 28, 28, 512)       2359808   \n",
      "                                                                 \n",
      " block4_conv3 (Conv2D)       (None, 28, 28, 512)       2359808   \n",
      "                                                                 \n",
      " block4_pool (MaxPooling2D)  (None, 14, 14, 512)       0         \n",
      "                                                                 \n",
      " block5_conv1 (Conv2D)       (None, 14, 14, 512)       2359808   \n",
      "                                                                 \n",
      " block5_conv2 (Conv2D)       (None, 14, 14, 512)       2359808   \n",
      "                                                                 \n",
      " block5_conv3 (Conv2D)       (None, 14, 14, 512)       2359808   \n",
      "                                                                 \n",
      " block5_pool (MaxPooling2D)  (None, 7, 7, 512)         0         \n",
      "                                                                 \n",
      " flatten (Flatten)           (None, 25088)             0         \n",
      "                                                                 \n",
      " fc1 (Dense)                 (None, 4096)              102764544 \n",
      "                                                                 \n",
      " fc2 (Dense)                 (None, 4096)              16781312  \n",
      "                                                                 \n",
      " dense (Dense)               (None, 64)                262208    \n",
      "                                                                 \n",
      " dense_1 (Dense)             (None, 30)                1950      \n",
      "                                                                 \n",
      " dense_2 (Dense)             (None, 7)                 217       \n",
      "                                                                 \n",
      "=================================================================\n",
      "Total params: 134524919 (513.17 MB)\n",
      "Trainable params: 264375 (1.01 MB)\n",
      "Non-trainable params: 134260544 (512.16 MB)\n",
      "_________________________________________________________________\n"
     ]
    }
   ],
   "source": [
    "# add a last classification layer for our use case with 5 classes\n",
    "model.add(layers.Dense(64,activation='relu'))\n",
    "model.add(layers.Dense(30,activation='relu'))\n",
    "model.add(layers.Dense(7))\n",
    "model.summary()"
   ]
  },
  {
   "cell_type": "code",
   "execution_count": 11,
   "id": "e26a20f3",
   "metadata": {},
   "outputs": [],
   "source": [
    "# loss and optimizer\n",
    "loss = keras.losses.SparseCategoricalCrossentropy(from_logits=True)\n",
    "optim = keras.optimizers.Adam(learning_rate=0.001)\n",
    "metrics = [\"accuracy\"]\n",
    "\n",
    "model.compile(optimizer=optim, loss=loss, metrics=metrics)"
   ]
  },
  {
   "cell_type": "code",
   "execution_count": 12,
   "id": "de97ceb8",
   "metadata": {},
   "outputs": [
    {
     "name": "stdout",
     "output_type": "stream",
     "text": [
      "Epoch 1/30\n",
      " 55/525 [==>...........................] - ETA: 3:12 - loss: 1.2445 - accuracy: 0.5682"
     ]
    },
    {
     "name": "stderr",
     "output_type": "stream",
     "text": [
      "C:\\Users\\Amirul\\AppData\\Local\\Programs\\Python\\Python311\\Lib\\site-packages\\PIL\\Image.py:996: UserWarning: Palette images with Transparency expressed in bytes should be converted to RGBA images\n",
      "  warnings.warn(\n"
     ]
    },
    {
     "name": "stdout",
     "output_type": "stream",
     "text": [
      "525/525 [==============================] - 336s 640ms/step - loss: 0.5837 - accuracy: 0.7952 - val_loss: 0.6411 - val_accuracy: 0.8446\n",
      "Epoch 2/30\n",
      "525/525 [==============================] - 347s 661ms/step - loss: 0.2573 - accuracy: 0.9138 - val_loss: 0.8103 - val_accuracy: 0.8514\n",
      "Epoch 3/30\n",
      "525/525 [==============================] - 351s 668ms/step - loss: 0.1651 - accuracy: 0.9429 - val_loss: 1.0471 - val_accuracy: 0.8251\n",
      "Epoch 4/30\n",
      "525/525 [==============================] - 352s 670ms/step - loss: 0.0817 - accuracy: 0.9752 - val_loss: 0.7190 - val_accuracy: 0.8811\n",
      "Epoch 5/30\n",
      "525/525 [==============================] - 365s 695ms/step - loss: 0.0911 - accuracy: 0.9686 - val_loss: 0.8207 - val_accuracy: 0.8663\n",
      "Epoch 6/30\n",
      "525/525 [==============================] - ETA: 0s - loss: 0.0919 - accuracy: 0.9724Restoring model weights from the end of the best epoch: 1.\n",
      "525/525 [==============================] - 372s 709ms/step - loss: 0.0919 - accuracy: 0.9724 - val_loss: 0.9446 - val_accuracy: 0.8377\n",
      "Epoch 6: early stopping\n"
     ]
    },
    {
     "data": {
      "text/plain": [
       "<keras.src.callbacks.History at 0x1cb5bee6a50>"
      ]
     },
     "execution_count": 12,
     "metadata": {},
     "output_type": "execute_result"
    }
   ],
   "source": [
    "epochs = 30\n",
    "\n",
    "early_stopping = keras.callbacks.EarlyStopping(\n",
    "    monitor=\"val_loss\",\n",
    "    patience=5,\n",
    "    restore_best_weights=True,\n",
    "    verbose=2,\n",
    "    start_from_epoch=0\n",
    ")\n",
    "\n",
    "model.fit(train_batches, validation_data=val_batches,\n",
    "            callbacks=[early_stopping],\n",
    "          epochs=epochs, verbose=1)"
   ]
  },
  {
   "cell_type": "code",
   "execution_count": 15,
   "id": "ef1f459a",
   "metadata": {},
   "outputs": [
    {
     "name": "stdout",
     "output_type": "stream",
     "text": [
      "525/525 [==============================] - 74s 140ms/step - loss: 0.6981 - accuracy: 0.7905\n"
     ]
    },
    {
     "data": {
      "text/plain": [
       "[0.6980946063995361, 0.7904762029647827]"
      ]
     },
     "execution_count": 15,
     "metadata": {},
     "output_type": "execute_result"
    }
   ],
   "source": [
    "model.evaluate(test_batches, verbose=1)"
   ]
  },
  {
   "cell_type": "code",
   "execution_count": 16,
   "id": "92a69081",
   "metadata": {},
   "outputs": [],
   "source": [
    "model.save(\"VGG16_64relu_30relu_7L_BD500.keras\") #saving trained model"
   ]
  },
  {
   "cell_type": "code",
   "execution_count": 17,
   "id": "d58f8889",
   "metadata": {},
   "outputs": [],
   "source": [
    "loadmodel=tf.keras.models.load_model(\"VGG16_64relu_30relu_7L_BD500.keras\") #to load a different model that has been used before`"
   ]
  },
  {
   "cell_type": "code",
   "execution_count": 18,
   "id": "2bb34165",
   "metadata": {},
   "outputs": [
    {
     "name": "stdout",
     "output_type": "stream",
     "text": [
      "525/525 [==============================] - 74s 140ms/step\n"
     ]
    }
   ],
   "source": [
    "# make some predictions\n",
    "predictions = loadmodel.predict(test_batches)\n",
    "predictions = tf.nn.softmax(predictions)\n",
    "labels = np.argmax(predictions, axis=1)"
   ]
  },
  {
   "cell_type": "markdown",
   "id": "f35b6b45",
   "metadata": {},
   "source": [
    "making confusion matrix"
   ]
  },
  {
   "cell_type": "code",
   "execution_count": 19,
   "id": "41f64ad9",
   "metadata": {},
   "outputs": [],
   "source": [
    "from sklearn.metrics import confusion_matrix\n",
    "from sklearn.utils.multiclass import unique_labels\n",
    "from sklearn.metrics import classification_report\n",
    "import seaborn as sns\n",
    "\n",
    "Classes = [\"Cardboard boxes\",\"Cardboard drinks\",\"glass\",\"Metal cans\",\"Metal foils and container\",\"paper\",\"Plastic bottles\"]\n",
    "\n",
    "\n",
    "def plot2(y_actual,y_true):\n",
    "\n",
    "    column=[f'Predicted {label}'for label in Classes]\n",
    "    indices=[f'Actual {label}' for label in Classes]\n",
    "    table=pd.DataFrame(confusion_matrix(y_actual,y_result),\n",
    "                       columns=column,index=indices)\n",
    "\n",
    "    \n",
    "    return sns.heatmap(table,annot=True,fmt='d',cmap='Blues') \n",
    "    \n",
    "y_actual=test_batches.labels\n",
    "y_result=labels"
   ]
  },
  {
   "cell_type": "code",
   "execution_count": 20,
   "id": "d8dcfb51",
   "metadata": {},
   "outputs": [
    {
     "data": {
      "text/plain": [
       "<Axes: >"
      ]
     },
     "execution_count": 20,
     "metadata": {},
     "output_type": "execute_result"
    },
    {
     "data": {
      "image/png": "[encoded data removed]",
      "text/plain": [
       "<Figure size 640x480 with 2 Axes>"
      ]
     },
     "metadata": {},
     "output_type": "display_data"
    }
   ],
   "source": [
    "plot2(y_actual,y_result)"
   ]
  },
  {
   "cell_type": "code",
   "execution_count": 21,
   "id": "18d5f6f3",
   "metadata": {},
   "outputs": [
    {
     "name": "stdout",
     "output_type": "stream",
     "text": [
      "Classification report: \n",
      "               precision    recall  f1-score   support\n",
      "\n",
      "           0       1.00      0.68      0.81        75\n",
      "           1       0.81      0.99      0.89        75\n",
      "           2       0.57      0.69      0.63        75\n",
      "           3       0.87      0.36      0.51        75\n",
      "           4       0.96      0.99      0.97        75\n",
      "           5       0.86      0.95      0.90        75\n",
      "           6       0.65      0.88      0.75        75\n",
      "\n",
      "    accuracy                           0.79       525\n",
      "   macro avg       0.82      0.79      0.78       525\n",
      "weighted avg       0.82      0.79      0.78       525\n",
      "\n"
     ]
    }
   ],
   "source": [
    "#Confusion matrix report\n",
    "\n",
    "matrix=classification_report(y_actual,y_result)\n",
    "print('Classification report: \\n',matrix)"
   ]
  },
  {
   "cell_type": "code",
   "execution_count": 22,
   "id": "185b9cfe",
   "metadata": {},
   "outputs": [],
   "source": [
    "modelname='VGG16_64relu_30relu_7L_BD500_summary.txt'\n",
    "def myprint(s):\n",
    "    with open(modelname,'a') as f:\n",
    "        print(s, file=f)\n",
    "\n",
    "loadmodel.summary(print_fn=myprint)\n",
    "\n",
    "file2write=open(modelname,'a')\n",
    "file2write.write(matrix)\n",
    "file2write.close()"
   ]
  },
  {
   "cell_type": "code",
   "execution_count": 23,
   "id": "6148addc",
   "metadata": {},
   "outputs": [
    {
     "name": "stdout",
     "output_type": "stream",
     "text": [
      "Confusion matrix added to VGG16_64relu_30relu_7L_BD500_summary.txt\n"
     ]
    }
   ],
   "source": [
    "from sklearn.metrics import confusion_matrix\n",
    "import numpy as np\n",
    "\n",
    "conf_matrix = confusion_matrix(y_actual,y_result)\n",
    "\n",
    "# Labeling the rows and columns\n",
    "classes = [\"0\",\"1\",\"2\",\"3\",\"4\",\"5\",\"6\"]\n",
    "conf_matrix_labeled = np.vstack((np.array([\"\"] + classes), np.column_stack((np.array(classes), conf_matrix))))\n",
    "\n",
    "# Convert the confusion matrix to a formatted string\n",
    "conf_matrix_text = \"Confusion Matrix:\\n\" + str(conf_matrix)\n",
    "\n",
    "# Specify the path of the summary text file\n",
    "summary_file_path = modelname\n",
    "\n",
    "# Read the content of the summary file\n",
    "with open(summary_file_path, 'r') as summary_file:\n",
    "    summary_content = summary_file.read()\n",
    "additional_text = \"\\nClasses :\\n Cardboard boxes=0\\n Cardboard drinks=1\\n glass=2\\n Metal cans=3\\n Metal foils and container=4\\n paper=5\\n Plastic bottles=6\"\n",
    "# Append the confusion matrix content to the summary content\n",
    "combined_content = summary_content + '\\n\\n' + conf_matrix_text + '\\n\\n'+additional_text\n",
    "\n",
    "# Write the combined content back to the summary file\n",
    "with open(summary_file_path, 'w') as summary_file:\n",
    "    summary_file.write(combined_content)\n",
    "\n",
    "print(f\"Confusion matrix added to {summary_file_path}\")"
   ]
  },
  {
   "cell_type": "code",
   "execution_count": null,
   "id": "55cbe7ae",
   "metadata": {},
   "outputs": [],
   "source": []
  }
 ],
 "metadata": {
  "kernelspec": {
   "display_name": "Python 3 (ipykernel)",
   "language": "python",
   "name": "python3"
  },
  "language_info": {
   "codemirror_mode": {
    "name": "ipython",
    "version": 3
   },
   "file_extension": ".py",
   "mimetype": "text/x-python",
   "name": "python",
   "nbconvert_exporter": "python",
   "pygments_lexer": "ipython3",
   "version": "3.11.5"
  }
 },
 "nbformat": 4,
 "nbformat_minor": 5
}
